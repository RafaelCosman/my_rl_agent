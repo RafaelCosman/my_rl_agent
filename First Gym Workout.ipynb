{
 "cells": [
  {
   "cell_type": "code",
   "execution_count": 87,
   "metadata": {
    "collapsed": false
   },
   "outputs": [],
   "source": [
    "import gym\n",
    "import tensorflow as tf\n",
    "import numpy as np\n",
    "np.set_printoptions(precision=3)\n",
    "import random\n",
    "import datetime\n",
    "import itertools"
   ]
  },
  {
   "cell_type": "code",
   "execution_count": 353,
   "metadata": {
    "collapsed": true
   },
   "outputs": [],
   "source": [
    "def weight_variable(shape, name=None):\n",
    "  initial = tf.truncated_normal(shape, mean=0.0, stddev=0.1)\n",
    "  return tf.Variable(initial, name=name)\n",
    "\n",
    "def bias_variable(shape, name=None):\n",
    "  initial = tf.constant(0.0, shape=shape)\n",
    "  return tf.Variable(initial, name=name)\n",
    "\n",
    "def conv2d(x, W):\n",
    "  return tf.nn.conv2d(x, W, strides=[1, 1, 1, 1], padding='SAME')\n",
    "\n",
    "def max_pool_2x2(x):\n",
    "  return tf.nn.max_pool(x, ksize=[1, 2, 2, 1], strides=[1, 2, 2, 1], padding='SAME')"
   ]
  },
  {
   "cell_type": "code",
   "execution_count": 89,
   "metadata": {
    "collapsed": false
   },
   "outputs": [
    {
     "name": "stderr",
     "output_type": "stream",
     "text": [
      "Exception AssertionError: AssertionError() in <bound method InteractiveSession.__del__ of <tensorflow.python.client.session.InteractiveSession object at 0x107ec6c10>> ignored\n"
     ]
    }
   ],
   "source": [
    "sess = tf.InteractiveSession()"
   ]
  },
  {
   "cell_type": "code",
   "execution_count": 90,
   "metadata": {
    "collapsed": false
   },
   "outputs": [
    {
     "name": "stderr",
     "output_type": "stream",
     "text": [
      "[2016-05-27 23:31:22,847] Making new env: CartPole-v0\n"
     ]
    },
    {
     "name": "stdout",
     "output_type": "stream",
     "text": [
      "Discrete(2)\n",
      "Box(4,)\n"
     ]
    }
   ],
   "source": [
    " env = gym.make('CartPole-v0')\n",
    "# env = gym.make('FrozenLake-v0')\n",
    "# env = gym.make('TwoRoundNondeterministicReward-v0')\n",
    "\n",
    "print(env.action_space)\n",
    "print(env.observation_space)"
   ]
  },
  {
   "cell_type": "code",
   "execution_count": 91,
   "metadata": {
    "collapsed": false
   },
   "outputs": [],
   "source": [
    "def one_hot(index, name=\"one_hot\"):\n",
    "    return tf.one_hot(indices=index, depth=env.observation_space.n, on_value=1, off_value=0, axis=None, name=name).eval()"
   ]
  },
  {
   "cell_type": "code",
   "execution_count": 92,
   "metadata": {
    "collapsed": true
   },
   "outputs": [],
   "source": [
    "def matvecmul(mat, vec):\n",
    "    return tf.reshape(tf.matmul(tf.reshape(vec, [1, -1]), mat), [-1])"
   ]
  },
  {
   "cell_type": "code",
   "execution_count": 93,
   "metadata": {
    "collapsed": true
   },
   "outputs": [],
   "source": [
    "def getFeedDict(observation):\n",
    "    if type(env.observation_space) == gym.spaces.discrete.Discrete:\n",
    "        return {x:[one_hot(observation)]}\n",
    "    elif type(env.observation_space) == gym.spaces.box.Box:\n",
    "        return {x:[observation]}\n",
    "    else:\n",
    "        print \"ERR\""
   ]
  },
  {
   "cell_type": "code",
   "execution_count": 94,
   "metadata": {
    "collapsed": false
   },
   "outputs": [
    {
     "name": "stdout",
     "output_type": "stream",
     "text": [
      "inputDims:  4\n",
      "outputDims:  2\n"
     ]
    }
   ],
   "source": [
    "if type(env.observation_space) == gym.spaces.discrete.Discrete:\n",
    "    inputDims = env.observation_space.n\n",
    "elif type(env.observation_space) == gym.spaces.box.Box:\n",
    "    inputDims = env.observation_space.shape[0]\n",
    "else:\n",
    "    print \"ERR\"\n",
    "print \"inputDims: \", inputDims\n",
    "    \n",
    "if type(env.action_space) == gym.spaces.discrete.Discrete:\n",
    "    outputDims = env.action_space.n\n",
    "elif type(env.action_space) == gym.spaces.box.Box:\n",
    "    outputDims = env.action_space.shape[0]\n",
    "else:\n",
    "    print \"ERR\"\n",
    "print \"outputDims: \", outputDims\n",
    "\n",
    "x = tf.placeholder(tf.float32, [None, inputDims], name=\"x\")\n",
    "W = weight_variable([inputDims, outputDims], name=\"W\")\n",
    "b = bias_variable([outputDims], name=\"b\")\n",
    "q = tf.matmul(x, W) + b\n",
    "\n",
    "greedyAction = tf.argmax(q, 1, name=\"greedyAction\")\n",
    "greedyValue = tf.reduce_max(q, name=\"greedyValue\")\n",
    "greedyActionValue = tf.gather(tf.gather(q, 0), greedyAction, name=\"greedyActionValue\")\n",
    "        \n",
    "sess.run(tf.initialize_all_variables())"
   ]
  },
  {
   "cell_type": "code",
   "execution_count": 95,
   "metadata": {
    "collapsed": false,
    "scrolled": false
   },
   "outputs": [
    {
     "name": "stdout",
     "output_type": "stream",
     "text": [
      "Episode finished after 18 timesteps\n",
      "Episode finished after 13 timesteps\n",
      "Episode finished after 23 timesteps\n",
      "Episode finished after 21 timesteps\n",
      "Episode finished after 30 timesteps\n",
      "Episode finished after 24 timesteps\n",
      "Episode finished after 36 timesteps\n",
      "Episode finished after 19 timesteps\n",
      "Episode finished after 11 timesteps\n",
      "Episode finished after 16 timesteps\n",
      "Episode finished after 11 timesteps\n",
      "Episode finished after 16 timesteps\n",
      "Episode finished after 31 timesteps\n",
      "Episode finished after 24 timesteps\n",
      "Episode finished after 19 timesteps\n",
      "Episode finished after 16 timesteps\n",
      "Episode finished after 21 timesteps\n",
      "Episode finished after 15 timesteps\n",
      "Episode finished after 19 timesteps\n",
      "Episode finished after 28 timesteps\n",
      "Episode finished after 89 timesteps\n",
      "Episode finished after 34 timesteps\n",
      "Episode finished after 27 timesteps\n",
      "Episode finished after 14 timesteps\n",
      "Episode finished after 40 timesteps\n",
      "Episode finished after 17 timesteps\n",
      "Episode finished after 36 timesteps\n",
      "Episode finished after 15 timesteps\n",
      "Episode finished after 15 timesteps\n",
      "Episode finished after 10 timesteps\n"
     ]
    }
   ],
   "source": [
    "oldObservations = []\n",
    "actions = []\n",
    "observations = []\n",
    "rewards = []\n",
    "dones = []\n",
    "\n",
    "for i_episode in range(30):\n",
    "    observation = env.reset()\n",
    "    \n",
    "    for timestep in itertools.count():\n",
    "        env.render()\n",
    "        \n",
    "        epsilon = 1.0\n",
    "        if random.random() < epsilon:\n",
    "            action = env.action_space.sample() #choose a random action\n",
    "        else:\n",
    "            action = greedyAction.eval(getFeedDict(observation))\n",
    "        \n",
    "        oldObservation = observation\n",
    "        \n",
    "        observation, reward, done, info = env.step(action)\n",
    "        \n",
    "        oldObservations.append(oldObservation)\n",
    "        actions.append(action)\n",
    "        observations.append(observation)\n",
    "        rewards.append(reward)\n",
    "        dones.append(done)\n",
    "        \n",
    "        if done:\n",
    "            print(\"Episode finished after {} timesteps\".format(timestep+1))\n",
    "            break"
   ]
  },
  {
   "cell_type": "code",
   "execution_count": 71,
   "metadata": {
    "collapsed": false
   },
   "outputs": [
    {
     "name": "stdout",
     "output_type": "stream",
     "text": [
      "before:  2016-05-27 23:21:56.172650\n",
      "after:  2016-05-27 23:21:56.550911\n"
     ]
    }
   ],
   "source": [
    "if done:\n",
    "    td_target = reward\n",
    "else:\n",
    "    td_target = greedyValue.eval(getFeedDict(observation)) + reward\n",
    "#         print \"td_target: \", td_target\n",
    "\n",
    "td_error = tf.square(tf.sub(np.array(td_target, dtype=np.float32), greedyActionValue), name=\"td_error\")\n",
    "#         print getFeedDict(oldObservation)\n",
    "#         print(td_error)\n",
    "#         print(action_value.eval(getFeedDict(oldObservation)))\n",
    "#         print \"td_error: \", td_error.eval(getFeedDict(oldObservation))\n",
    "\n",
    "\n",
    "train_step = tf.train.GradientDescentOptimizer(0.1).minimize(td_error)\n",
    "\n",
    "sess.run(train_step, getFeedDict(oldObservation))\n",
    "\n",
    "#         print(\"Now the network has been improved.\")\n",
    "#         print \"action_value: \", action_value.eval(getFeedDict(oldObservation))\n",
    "#         print \n",
    "\n",
    "\n",
    "#         if type(env.observation_space) == gym.spaces.discrete.Discrete:\n",
    "#             for obs in xrange(env.observation_space.n):\n",
    "#                 print \"q(\"+str(obs)+\"): \", q.eval(getFeedDict(obs))"
   ]
  },
  {
   "cell_type": "code",
   "execution_count": 349,
   "metadata": {
    "collapsed": false
   },
   "outputs": [],
   "source": [
    "envModelInsData = np.concatenate((np.asarray(oldObservations), np.asarray([actions]).T), 1)\n",
    "envModelOutsData = np.concatenate((np.asarray(observations), np.asarray([dones]).T, np.asarray([rewards]).T), 1)\n",
    "\n",
    "envModelIns = tf.placeholder(tf.float32, [None, envModelInsData.shape[1]], name=\"envModelIns\")\n",
    "envModelOuts = tf.placeholder(tf.float32, [None, envModelOutsData.shape[1]], name=\"envModelOuts\")\n",
    "\n",
    "envModelW = weight_variable([envModelInsData.shape[1], envModelOutsData.shape[1]], name=\"envModelW\")\n",
    "envModelb = bias_variable([envModelOutsData.shape[1]], name=\"envModelb\")\n",
    "envModelPredictedOuts = tf.matmul(envModelIns, envModelW) + envModelb\n",
    "\n",
    "loss = tf.reduce_mean(tf.square(tf.sub(envModelPredictedOuts, envModelOuts)))\n",
    "\n",
    "sess.run(tf.initialize_all_variables())"
   ]
  },
  {
   "cell_type": "code",
   "execution_count": 356,
   "metadata": {
    "collapsed": false
   },
   "outputs": [],
   "source": [
    "for i in xrange(20):\n",
    "    miniBatchIndices = np.random.randint(envModelInsData.shape[0], size=100)\n",
    "    \n",
    "    tf.train.GradientDescentOptimizer(0.5).minimize(loss).run(feed_dict={\n",
    "        envModelIns: envModelInsData[miniBatchIndices, :],\n",
    "        envModelOuts: envModelOutsData[miniBatchIndices, :]\n",
    "    })"
   ]
  },
  {
   "cell_type": "code",
   "execution_count": 357,
   "metadata": {
    "collapsed": false
   },
   "outputs": [
    {
     "name": "stdout",
     "output_type": "stream",
     "text": [
      "[[ 0.062 -0.121  0.045 -0.084 -0.075 -0.02 ]\n",
      " [ 0.018  0.369  0.022 -0.419 -0.08  -0.07 ]\n",
      " [-0.124 -0.028  0.021 -0.004  0.004 -0.028]\n",
      " [-0.045 -0.415  0.109  0.742 -0.02  -0.045]\n",
      " [ 0.005  0.293 -0.005 -0.408 -0.008  0.09 ]]\n",
      "[ 0.01  -0.098  0.013  0.233  0.059  0.957]\n",
      "0.0137582\n"
     ]
    }
   ],
   "source": [
    "print envModelW.eval()\n",
    "print envModelb.eval()\n",
    "print loss.eval(feed_dict={\n",
    "    envModelIns: envModelInsData,\n",
    "    envModelOuts: envModelOutsData\n",
    "})"
   ]
  },
  {
   "cell_type": "code",
   "execution_count": 355,
   "metadata": {
    "collapsed": false
   },
   "outputs": [
    {
     "name": "stdout",
     "output_type": "stream",
     "text": [
      "envModelInsData[:3]: \n",
      "[[-0.004  0.027 -0.023  0.038  1.   ]\n",
      " [-0.003  0.222 -0.022 -0.262  0.   ]\n",
      " [ 0.001  0.028 -0.028  0.024  0.   ]]\n",
      "\n",
      "envModelPredictedOuts.eval(feed_dict={envModelIns: envModelInsData[:3]}): \n",
      "[[ 0.021  0.141  0.009 -0.067  0.022  1.07 ]\n",
      " [ 0.026  0.119 -0.013 -0.127  0.035  0.893]\n",
      " [ 0.01  -0.061  0.016  0.15   0.047  0.898]]\n",
      "\n",
      "envModelOutsData[:3]: \n",
      "[[-0.003  0.222 -0.022 -0.262  0.     1.   ]\n",
      " [ 0.001  0.028 -0.028  0.024  0.     1.   ]\n",
      " [ 0.002 -0.167 -0.027  0.307  0.     1.   ]]\n",
      "\n",
      "envModelOutsData[:3] - envModelInsData[:3,:5]: \n",
      "[[  5.398e-04   1.954e-01   7.565e-04  -2.999e-01  -1.000e+00]\n",
      " [  4.449e-03  -1.948e-01  -5.241e-03   2.856e-01   0.000e+00]\n",
      " [  5.528e-04  -1.947e-01   4.702e-04   2.839e-01   0.000e+00]]\n",
      "\n",
      "envModelOutsData[:3] - envModelPredictedOuts.eval(feed_dict={envModelIns: envModelInsData[:3]}): \n",
      "[[-0.025  0.081 -0.031 -0.195 -0.022 -0.07 ]\n",
      " [-0.025 -0.092 -0.015  0.151 -0.035  0.107]\n",
      " [-0.008 -0.106 -0.043  0.157 -0.047  0.102]]\n"
     ]
    }
   ],
   "source": [
    "print \"envModelInsData[:3]: \"\n",
    "print envModelInsData[:3]\n",
    "print\n",
    "print \"envModelPredictedOuts.eval(feed_dict={envModelIns: envModelInsData[:3]}): \"\n",
    "print envModelPredictedOuts.eval(feed_dict={envModelIns: envModelInsData[:3]})\n",
    "print\n",
    "print \"envModelOutsData[:3]: \"\n",
    "print envModelOutsData[:3]\n",
    "print \n",
    "print \"envModelOutsData[:3] - envModelInsData[:3,:5]: \"\n",
    "print envModelOutsData[:3,:5] - envModelInsData[:3]\n",
    "print \n",
    "print \"envModelOutsData[:3] - envModelPredictedOuts.eval(feed_dict={envModelIns: envModelInsData[:3]}): \"\n",
    "print envModelOutsData[:3] - envModelPredictedOuts.eval(feed_dict={envModelIns: envModelInsData[:3]})"
   ]
  },
  {
   "cell_type": "code",
   "execution_count": 341,
   "metadata": {
    "collapsed": false
   },
   "outputs": [
    {
     "data": {
      "text/plain": [
       "array([ 0.,  0.,  0.,  0.,  0.], dtype=float32)"
      ]
     },
     "execution_count": 341,
     "metadata": {},
     "output_type": "execute_result"
    }
   ],
   "source": [
    "envModelb.assign(np.zeros((5))).eval()"
   ]
  },
  {
   "cell_type": "code",
   "execution_count": null,
   "metadata": {
    "collapsed": true
   },
   "outputs": [],
   "source": []
  }
 ],
 "metadata": {
  "kernelspec": {
   "display_name": "Python 2",
   "language": "python",
   "name": "python2"
  },
  "language_info": {
   "codemirror_mode": {
    "name": "ipython",
    "version": 2
   },
   "file_extension": ".py",
   "mimetype": "text/x-python",
   "name": "python",
   "nbconvert_exporter": "python",
   "pygments_lexer": "ipython2",
   "version": "2.7.11"
  }
 },
 "nbformat": 4,
 "nbformat_minor": 0
}
