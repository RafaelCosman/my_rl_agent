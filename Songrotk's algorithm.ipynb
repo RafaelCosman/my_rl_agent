{
 "cells": [
  {
   "cell_type": "code",
   "execution_count": 1,
   "metadata": {
    "collapsed": false
   },
   "outputs": [
    {
     "name": "stderr",
     "output_type": "stream",
     "text": [
      "[2016-06-05 21:14:02,011] Making new env: DistortionBoxCartPole-v0\n",
      "[2016-06-05 21:14:02,022] Clearing 4 monitor files from previous run (because force=True was provided)\n",
      "[2016-06-05 21:14:02,030] Starting new video recorder writing to /tmp/DistortionBoxCartPole-v0-results/openaigym.video.0.34091.video000000.mp4\n",
      "[2016-06-05 21:14:03,296] Starting new video recorder writing to /tmp/DistortionBoxCartPole-v0-results/openaigym.video.0.34091.video000001.mp4\n",
      "[2016-06-05 21:14:03,873] Starting new video recorder writing to /tmp/DistortionBoxCartPole-v0-results/openaigym.video.0.34091.video000008.mp4\n",
      "[2016-06-05 21:14:05,157] Starting new video recorder writing to /tmp/DistortionBoxCartPole-v0-results/openaigym.video.0.34091.video000027.mp4\n"
     ]
    },
    {
     "name": "stdout",
     "output_type": "stream",
     "text": [
      "iteration 0. mean f:     14.6. max f:       43\n",
      "iteration 1. mean f:     28.4. max f:      166\n"
     ]
    },
    {
     "name": "stderr",
     "output_type": "stream",
     "text": [
      "[2016-06-05 21:14:06,243] Starting new video recorder writing to /tmp/DistortionBoxCartPole-v0-results/openaigym.video.0.34091.video000064.mp4\n"
     ]
    },
    {
     "name": "stdout",
     "output_type": "stream",
     "text": [
      "iteration 2. mean f:     28.9. max f:       77\n",
      "iteration 3. mean f:     34.8. max f:      110\n"
     ]
    },
    {
     "name": "stderr",
     "output_type": "stream",
     "text": [
      "[2016-06-05 21:14:07,871] Starting new video recorder writing to /tmp/DistortionBoxCartPole-v0-results/openaigym.video.0.34091.video000125.mp4\n"
     ]
    },
    {
     "name": "stdout",
     "output_type": "stream",
     "text": [
      "iteration 4. mean f:     27.4. max f:       74\n",
      "iteration 5. mean f:     41.6. max f:      109\n"
     ]
    },
    {
     "name": "stderr",
     "output_type": "stream",
     "text": [
      "[2016-06-05 21:14:09,371] Observation '[-2.41680807 -1.27361197 -0.10843459 -0.34910011]' is not contained within observation space 'Box(4,)'.\n"
     ]
    },
    {
     "name": "stdout",
     "output_type": "stream",
     "text": [
      "iteration 6. mean f:       50. max f:      157\n",
      "iteration 7. mean f:     57.2. max f:      214\n"
     ]
    },
    {
     "name": "stderr",
     "output_type": "stream",
     "text": [
      "[2016-06-05 21:14:12,242] Starting new video recorder writing to /tmp/DistortionBoxCartPole-v0-results/openaigym.video.0.34091.video000216.mp4\n"
     ]
    },
    {
     "name": "stdout",
     "output_type": "stream",
     "text": [
      "iteration 8. mean f:      102. max f:      500\n",
      "iteration 9. mean f:      177. max f:      500\n",
      "iteration 10. mean f:      152. max f:      500\n",
      "iteration 11. mean f:      177. max f:      500\n",
      "iteration 12. mean f:      242. max f:      500\n"
     ]
    },
    {
     "name": "stderr",
     "output_type": "stream",
     "text": [
      "[2016-06-05 21:14:42,037] Starting new video recorder writing to /tmp/DistortionBoxCartPole-v0-results/openaigym.video.0.34091.video000343.mp4\n"
     ]
    },
    {
     "name": "stdout",
     "output_type": "stream",
     "text": [
      "iteration 13. mean f:      275. max f:      500\n",
      "iteration 14. mean f:      291. max f:      500\n",
      "iteration 15. mean f:      290. max f:      500\n",
      "iteration 16. mean f:      301. max f:      500\n",
      "iteration 17. mean f:      297. max f:      500\n",
      "iteration 18. mean f:      365. max f:      500\n"
     ]
    },
    {
     "name": "stderr",
     "output_type": "stream",
     "text": [
      "[2016-06-05 21:14:47,701] Starting new video recorder writing to /tmp/DistortionBoxCartPole-v0-results/openaigym.video.0.34091.video000512.mp4\n"
     ]
    },
    {
     "name": "stdout",
     "output_type": "stream",
     "text": [
      "iteration 19. mean f:      375. max f:      500\n",
      "iteration 20. mean f:      415. max f:      500\n",
      "iteration 21. mean f:      365. max f:      500\n",
      "iteration 22. mean f:      377. max f:      500\n",
      "iteration 23. mean f:      308. max f:      500\n",
      "iteration 24. mean f:      243. max f:      500\n",
      "iteration 25. mean f:      252. max f:      500\n",
      "iteration 26. mean f:      330. max f:      500\n"
     ]
    },
    {
     "name": "stderr",
     "output_type": "stream",
     "text": [
      "[2016-06-05 21:14:51,759] Starting new video recorder writing to /tmp/DistortionBoxCartPole-v0-results/openaigym.video.0.34091.video000729.mp4\n"
     ]
    },
    {
     "name": "stdout",
     "output_type": "stream",
     "text": [
      "iteration 27. mean f:      313. max f:      500\n",
      "iteration 28. mean f:      298. max f:      500\n",
      "iteration 29. mean f:      367. max f:      500\n",
      "iteration 30. mean f:      438. max f:      500\n",
      "iteration 31. mean f:      336. max f:      500\n",
      "iteration 32. mean f:      380. max f:      500\n",
      "iteration 33. mean f:      347. max f:      500\n",
      "iteration 34. mean f:      313. max f:      500\n",
      "iteration 35. mean f:      289. max f:      500\n",
      "iteration 36. mean f:      353. max f:      500\n",
      "iteration 37. mean f:      377. max f:      500\n"
     ]
    },
    {
     "name": "stderr",
     "output_type": "stream",
     "text": [
      "[2016-06-05 21:15:00,494] Starting new video recorder writing to /tmp/DistortionBoxCartPole-v0-results/openaigym.video.0.34091.video001000.mp4\n"
     ]
    },
    {
     "name": "stdout",
     "output_type": "stream",
     "text": [
      "iteration 38. mean f:      262. max f:      500\n",
      "iteration 39. mean f:      413. max f:      500\n",
      "iteration 40. mean f:      195. max f:      500\n",
      "iteration 41. mean f:      211. max f:      500\n",
      "iteration 42. mean f:      427. max f:      500\n",
      "iteration 43. mean f:      355. max f:      500\n",
      "iteration 44. mean f:      402. max f:      500\n",
      "iteration 45. mean f:      414. max f:      500\n",
      "iteration 46. mean f:      430. max f:      500\n",
      "iteration 47. mean f:      467. max f:      500\n",
      "iteration 48. mean f:      396. max f:      500\n",
      "iteration 49. mean f:      434. max f:      500\n",
      "iteration 50. mean f:      454. max f:      500\n",
      "iteration 51. mean f:      451. max f:      500\n",
      "iteration 52. mean f:      480. max f:      500\n",
      "iteration 53. mean f:      476. max f:      500\n",
      "iteration 54. mean f:      436. max f:      500\n",
      "iteration 55. mean f:      480. max f:      500\n",
      "iteration 56. mean f:      471. max f:      500\n",
      "iteration 57. mean f:      435. max f:      500\n",
      "iteration 58. mean f:      447. max f:      500\n",
      "iteration 59. mean f:      443. max f:      500\n",
      "iteration 60. mean f:      398. max f:      500\n",
      "iteration 61. mean f:      396. max f:      500\n",
      "iteration 62. mean f:      441. max f:      500\n",
      "iteration 63. mean f:      404. max f:      500\n",
      "iteration 64. mean f:      379. max f:      500\n",
      "iteration 65. mean f:      433. max f:      500\n",
      "iteration 66. mean f:      442. max f:      500\n",
      "iteration 67. mean f:      307. max f:      500\n",
      "iteration 68. mean f:      364. max f:      500\n",
      "iteration 69. mean f:      446. max f:      500\n",
      "iteration 70. mean f:      384. max f:      500\n",
      "iteration 71. mean f:      463. max f:      500\n",
      "iteration 72. mean f:      395. max f:      500\n",
      "iteration 73. mean f:      444. max f:      500\n",
      "iteration 74. mean f:      434. max f:      500\n",
      "iteration 75. mean f:      465. max f:      500\n"
     ]
    },
    {
     "name": "stderr",
     "output_type": "stream",
     "text": [
      "[2016-06-05 21:15:25,074] Starting new video recorder writing to /tmp/DistortionBoxCartPole-v0-results/openaigym.video.0.34091.video002000.mp4\n"
     ]
    },
    {
     "name": "stdout",
     "output_type": "stream",
     "text": [
      "iteration 76. mean f:      412. max f:      500\n",
      "iteration 77. mean f:      429. max f:      500\n",
      "iteration 78. mean f:      472. max f:      500\n",
      "iteration 79. mean f:      469. max f:      500\n",
      "iteration 80. mean f:      487. max f:      500\n",
      "iteration 81. mean f:      468. max f:      500\n",
      "iteration 82. mean f:      441. max f:      500\n",
      "iteration 83. mean f:      444. max f:      500\n",
      "iteration 84. mean f:      404. max f:      500\n",
      "iteration 85. mean f:      500. max f:      500\n",
      "iteration 86. mean f:      477. max f:      500\n",
      "iteration 87. mean f:      473. max f:      500\n",
      "iteration 88. mean f:      480. max f:      500\n",
      "iteration 89. mean f:      433. max f:      500\n",
      "iteration 90. mean f:      481. max f:      500\n",
      "iteration 91. mean f:      480. max f:      500\n",
      "iteration 92. mean f:      480. max f:      500\n",
      "iteration 93. mean f:      480. max f:      500\n",
      "iteration 94. mean f:      500. max f:      500\n",
      "iteration 95. mean f:      480. max f:      500\n",
      "iteration 96. mean f:      468. max f:      500\n",
      "iteration 97. mean f:      461. max f:      500\n",
      "iteration 98. mean f:      462. max f:      500\n"
     ]
    },
    {
     "name": "stderr",
     "output_type": "stream",
     "text": [
      "[2016-06-05 21:15:49,654] Finished writing results. You can upload them to the scoreboard via gym.upload('/tmp/DistortionBoxCartPole-v0-results')\n"
     ]
    },
    {
     "name": "stdout",
     "output_type": "stream",
     "text": [
      "iteration 99. mean f:      443. max f:      500\n",
      "theta_mean: [ -2.03004586   1.11180758  -3.8517514    3.65156726 -10.41248821\n",
      "   2.77791355  -4.34535918   2.68476674  -0.99304803  -0.60556377]\n"
     ]
    }
   ],
   "source": [
    "import numpy as np\n",
    "import gym\n",
    "from gym.spaces import Discrete,Box\n",
    "\n",
    "# -------------------------------------------\n",
    "# Policies\n",
    "# -------------------------------------------\n",
    "\n",
    "class DeterministicDiscreteActionLinearPolicy(object):\n",
    "\n",
    "\tdef __init__(self,theta,ob_space,ac_space):\n",
    "\t\t\"\"\"\n",
    "\t\tdim_ob:dimension of observations\n",
    "\t\tn_actions: number of actions\n",
    "\t\ttheta: flat vector of parameters\n",
    "\t\t\"\"\"\n",
    "\t\tdim_ob = ob_space.shape[0]\n",
    "\t\tn_actions = ac_space.n \n",
    "\t\tassert len(theta) == (dim_ob + 1) * n_actions\n",
    "\t\tself.W = theta[0:dim_ob * n_actions].reshape(dim_ob,n_actions)\n",
    "\t\tself.b = theta[dim_ob * n_actions : None].reshape(1,n_actions)\n",
    "\n",
    "\tdef act(self,ob):\n",
    "\t\t\"\"\"\n",
    "\t\t\"\"\"\n",
    "\t\ty = ob.dot(self.W) + self.b\n",
    "\t\ta = y.argmax()\n",
    "\t\treturn a \n",
    "\n",
    "class DeterministicContinuousActionLinearPolicy(object):\n",
    "\tdef __init__(self, theta,ob_space,ac_space):\n",
    "\t\t\"\"\"\n",
    "\t\tdim_ob: dimension of observations\n",
    "\t\tdim_ac: dimension of action vector\n",
    "\t\ttheta: flat vector of parameters\n",
    "\t\t\"\"\"\n",
    "\t\tself.ac_space = ac_space\n",
    "\t\tdim_ob = ob_space.shape[0]\n",
    "\t\tdim_ac = ac_space.shape[0]\n",
    "\t\tassert len(theta) == (dim_ob + 1) * dim_ac\n",
    "\t\tself.W = theta[0:dim_ob*dim_ac].reshape(dim_ob,dim_ac)\n",
    "\t\tself.b = theta[dim_ob * dim_ac : None]\n",
    "\n",
    "\tdef act(self,ob):\n",
    "\t\ta = np.clip(ob.dot(self.W) + self.b,self.ac_space.low,self.ac_space.high)\n",
    "\t\treturn a \n",
    "\n",
    "def do_episode(policy,env,num_steps,render=False):\n",
    "\ttotal_rew = 0\n",
    "\tob = env.reset()\n",
    "\tfor t in range(num_steps):\n",
    "\t\ta = policy.act(ob)\n",
    "\t\t(ob,reward,done,_info) = env.step(a)\n",
    "\t\ttotal_rew += reward\n",
    "\t\tif render and t%3 == 0: env.render()\n",
    "\t\tif done: break\n",
    "\treturn total_rew\n",
    "\n",
    "env = None\n",
    "def noisy_evaluation(theta):\n",
    "\tpolicy = make_policy(theta)\n",
    "\trew = do_episode(policy,env,num_steps)\n",
    "\treturn rew \n",
    "\n",
    "def make_policy(theta):\n",
    "\tif isinstance(env.action_space,Discrete):\n",
    "\t\treturn DeterministicDiscreteActionLinearPolicy(theta,env.observation_space,env.action_space)\n",
    "\telif isinstance(env.action_space,Box):\n",
    "\t\treturn DeterministicContinuousActionLinearPolicy(theta,env.observation_space,env.action_space)\n",
    "\telse:\n",
    "\t\traise NotImplementedError\n",
    "\n",
    "# Task settings:\n",
    "name = 'DistortionBoxCartPole-v0'\n",
    "env = gym.make(name)\n",
    "outdir = '/tmp/' + name + '-results'\n",
    "env.monitor.start(outdir,force=True)\n",
    "\n",
    "num_steps = 500 # maximum length of episode\n",
    "# Alg settings:\n",
    "n_iter = 100  # number of iterations of CEM\n",
    "batch_size = 25\t # number of samples per batch\n",
    "elite_frac = 0.2 # fraction of samples used as elite set\n",
    "\n",
    "if isinstance(env.action_space,Discrete):\n",
    "\tdim_theta = (env.observation_space.shape[0] + 1) * env.action_space.n \n",
    "elif isinstance(env.action_space,Box):\n",
    "\tdim_theta = (env.observation_space.shape[0] + 1) * env.action_space.shape[0]\n",
    "else:\n",
    "\traise NotImplementedError\n",
    "\n",
    "# Initialize mean and standard deviation\n",
    "theta_mean = np.zeros(dim_theta)\n",
    "theta_std = np.ones(dim_theta)\n",
    "extra_std = 0.001 * np.ones(dim_theta)\n",
    "\n",
    "std_decay_time = -1\n",
    "\n",
    "# Now, for the algorithm\n",
    "for iteration in xrange(n_iter):\n",
    "\t# Sample parameter vectors\n",
    "\textra_var_multiplier = max((1.0-iteration/float(n_iter/2)),0)\n",
    "\tsample_std = np.sqrt(theta_std + np.square(extra_std) * extra_var_multiplier)\n",
    "\tthetas = [theta_mean + dth for dth in sample_std * np.random.randn(batch_size,dim_theta)]\n",
    "\trewards = [noisy_evaluation(theta) for theta in thetas]\n",
    "\t# Get elite parameters\n",
    "\tn_elite = int(batch_size * elite_frac)\n",
    "\telite_inds = np.argsort(rewards)[batch_size - n_elite:batch_size]\n",
    "\telite_thetas = [thetas[i] for i in elite_inds]\n",
    "\t# Update theta_mean,theta_std\n",
    "\ttheta_mean = np.mean(elite_thetas,axis = 0)\n",
    "\ttheta_std = np.std(elite_thetas,axis = 0)\n",
    "\tprint \"iteration %i. mean f: %8.3g. max f: %8.3g\" % (iteration,np.mean(rewards),np.max(rewards))\n",
    "\tdo_episode(make_policy(theta_mean),env,num_steps,render=True)\n",
    "\n",
    "env.monitor.close()\n",
    "\n",
    "print \"theta_mean:\",theta_mean"
   ]
  },
  {
   "cell_type": "code",
   "execution_count": null,
   "metadata": {
    "collapsed": true
   },
   "outputs": [],
   "source": []
  }
 ],
 "metadata": {
  "kernelspec": {
   "display_name": "Python 2",
   "language": "python",
   "name": "python2"
  },
  "language_info": {
   "codemirror_mode": {
    "name": "ipython",
    "version": 2
   },
   "file_extension": ".py",
   "mimetype": "text/x-python",
   "name": "python",
   "nbconvert_exporter": "python",
   "pygments_lexer": "ipython2",
   "version": "2.7.11"
  }
 },
 "nbformat": 4,
 "nbformat_minor": 0
}
