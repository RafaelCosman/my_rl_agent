{
 "cells": [
  {
   "cell_type": "code",
   "execution_count": 1,
   "metadata": {
    "collapsed": false
   },
   "outputs": [
    {
     "name": "stderr",
     "output_type": "stream",
     "text": [
      "[2016-06-05 19:36:30,568] Site environment registry incorrect: Scoreboard registered non-existent or deprecated envs: set(['ConfirmationBiasEasyContinuous-v0'])\n",
      "[2016-06-05 19:36:30,579] Making new env: ConfirmationBiasEasy-v0\n"
     ]
    },
    {
     "name": "stdout",
     "output_type": "stream",
     "text": [
      "0"
     ]
    },
    {
     "ename": "AttributeError",
     "evalue": "'Discrete' object has no attribute 'high'",
     "output_type": "error",
     "traceback": [
      "\u001b[0;31m---------------------------------------------------------------------------\u001b[0m",
      "\u001b[0;31mAttributeError\u001b[0m                            Traceback (most recent call last)",
      "\u001b[0;32m<ipython-input-1-3b9d52e264ec>\u001b[0m in \u001b[0;36m<module>\u001b[0;34m()\u001b[0m\n\u001b[1;32m    142\u001b[0m     \u001b[0;32mreturn\u001b[0m \u001b[0mindex\u001b[0m\u001b[0;34m\u001b[0m\u001b[0m\n\u001b[1;32m    143\u001b[0m \u001b[0;34m\u001b[0m\u001b[0m\n\u001b[0;32m--> 144\u001b[0;31m \u001b[0mmain\u001b[0m\u001b[0;34m(\u001b[0m\u001b[0;34m)\u001b[0m\u001b[0;34m\u001b[0m\u001b[0m\n\u001b[0m",
      "\u001b[0;32m<ipython-input-1-3b9d52e264ec>\u001b[0m in \u001b[0;36mmain\u001b[0;34m()\u001b[0m\n\u001b[1;32m     32\u001b[0m \u001b[0;34m\u001b[0m\u001b[0m\n\u001b[1;32m     33\u001b[0m     \u001b[0;32mfor\u001b[0m \u001b[0mepisode_num\u001b[0m \u001b[0;32min\u001b[0m \u001b[0mxrange\u001b[0m\u001b[0;34m(\u001b[0m\u001b[0;36m2000\u001b[0m\u001b[0;34m)\u001b[0m\u001b[0;34m:\u001b[0m\u001b[0;34m\u001b[0m\u001b[0m\n\u001b[0;32m---> 34\u001b[0;31m         \u001b[0;32mprint\u001b[0m \u001b[0mepisode_num\u001b[0m\u001b[0;34m,\u001b[0m \u001b[0mepisode\u001b[0m\u001b[0;34m(\u001b[0m\u001b[0mepsilon\u001b[0m\u001b[0;34m,\u001b[0m \u001b[0mtheta\u001b[0m\u001b[0;34m,\u001b[0m \u001b[0menv\u001b[0m\u001b[0;34m.\u001b[0m\u001b[0mspec\u001b[0m\u001b[0;34m.\u001b[0m\u001b[0mtimestep_limit\u001b[0m\u001b[0;34m)\u001b[0m\u001b[0;34m\u001b[0m\u001b[0m\n\u001b[0m\u001b[1;32m     35\u001b[0m         \u001b[0mepsilon\u001b[0m \u001b[0;34m=\u001b[0m \u001b[0mepsilon\u001b[0m \u001b[0;34m*\u001b[0m \u001b[0;36m0.999\u001b[0m \u001b[0;31m# added epsilon decay\u001b[0m\u001b[0;34m\u001b[0m\u001b[0m\n\u001b[1;32m     36\u001b[0m \u001b[0;34m\u001b[0m\u001b[0m\n",
      "\u001b[0;32m<ipython-input-1-3b9d52e264ec>\u001b[0m in \u001b[0;36mepisode\u001b[0;34m(epsilon, theta, max_steps)\u001b[0m\n\u001b[1;32m     61\u001b[0m \u001b[0;34m\u001b[0m\u001b[0m\n\u001b[1;32m     62\u001b[0m     \u001b[0mobservation\u001b[0m \u001b[0;34m=\u001b[0m \u001b[0menv\u001b[0m\u001b[0;34m.\u001b[0m\u001b[0mreset\u001b[0m\u001b[0;34m(\u001b[0m\u001b[0;34m)\u001b[0m\u001b[0;34m\u001b[0m\u001b[0m\n\u001b[0;32m---> 63\u001b[0;31m     \u001b[0mload_F\u001b[0m\u001b[0;34m(\u001b[0m\u001b[0mobservation\u001b[0m\u001b[0;34m)\u001b[0m\u001b[0;34m\u001b[0m\u001b[0m\n\u001b[0m\u001b[1;32m     64\u001b[0m     \u001b[0mload_Q\u001b[0m\u001b[0;34m(\u001b[0m\u001b[0;34m)\u001b[0m\u001b[0;34m\u001b[0m\u001b[0m\n\u001b[1;32m     65\u001b[0m     \u001b[0maction\u001b[0m \u001b[0;34m=\u001b[0m \u001b[0mnp\u001b[0m\u001b[0;34m.\u001b[0m\u001b[0margmax\u001b[0m\u001b[0;34m(\u001b[0m\u001b[0mQ\u001b[0m\u001b[0;34m)\u001b[0m \u001b[0;31m# numpy argmax chooses first in a tie, not random like original implementation\u001b[0m\u001b[0;34m\u001b[0m\u001b[0m\n",
      "\u001b[0;32m<ipython-input-1-3b9d52e264ec>\u001b[0m in \u001b[0;36mload_F\u001b[0;34m(observation)\u001b[0m\n\u001b[1;32m     45\u001b[0m         \u001b[0mstate_vars\u001b[0m \u001b[0;34m=\u001b[0m \u001b[0;34m[\u001b[0m\u001b[0;34m]\u001b[0m\u001b[0;34m\u001b[0m\u001b[0m\n\u001b[1;32m     46\u001b[0m         \u001b[0;32mfor\u001b[0m \u001b[0mi\u001b[0m\u001b[0;34m,\u001b[0m \u001b[0mvar\u001b[0m \u001b[0;32min\u001b[0m \u001b[0menumerate\u001b[0m\u001b[0;34m(\u001b[0m\u001b[0;34m[\u001b[0m\u001b[0mobservation\u001b[0m\u001b[0;34m]\u001b[0m\u001b[0;34m)\u001b[0m\u001b[0;34m:\u001b[0m\u001b[0;34m\u001b[0m\u001b[0m\n\u001b[0;32m---> 47\u001b[0;31m             \u001b[0mrange_\u001b[0m \u001b[0;34m=\u001b[0m \u001b[0;34m(\u001b[0m\u001b[0menv\u001b[0m\u001b[0;34m.\u001b[0m\u001b[0mobservation_space\u001b[0m\u001b[0;34m.\u001b[0m\u001b[0mhigh\u001b[0m\u001b[0;34m[\u001b[0m\u001b[0mi\u001b[0m\u001b[0;34m]\u001b[0m \u001b[0;34m-\u001b[0m \u001b[0menv\u001b[0m\u001b[0;34m.\u001b[0m\u001b[0mobservation_space\u001b[0m\u001b[0;34m.\u001b[0m\u001b[0mlow\u001b[0m\u001b[0;34m[\u001b[0m\u001b[0mi\u001b[0m\u001b[0;34m]\u001b[0m\u001b[0;34m)\u001b[0m\u001b[0;34m\u001b[0m\u001b[0m\n\u001b[0m\u001b[1;32m     48\u001b[0m             \u001b[0;31m# in CartPole, there is no range on the velocities, so default to 1\u001b[0m\u001b[0;34m\u001b[0m\u001b[0;34m\u001b[0m\u001b[0m\n\u001b[1;32m     49\u001b[0m             \u001b[0;32mif\u001b[0m \u001b[0mrange_\u001b[0m \u001b[0;34m==\u001b[0m \u001b[0mfloat\u001b[0m\u001b[0;34m(\u001b[0m\u001b[0;34m'inf'\u001b[0m\u001b[0;34m)\u001b[0m\u001b[0;34m:\u001b[0m\u001b[0;34m\u001b[0m\u001b[0m\n",
      "\u001b[0;31mAttributeError\u001b[0m: 'Discrete' object has no attribute 'high'"
     ]
    }
   ],
   "source": [
    "\"\"\"\n",
    "Translated from https://webdocs.cs.ualberta.ca/~sutton/MountainCar/MountainCar1.cp\n",
    "Algorithm described at https://webdocs.cs.ualberta.ca/~sutton/book/ebook/node89.html\n",
    "Some minor adjustments to constants were made to make the program work on environments\n",
    "besides Mountain Car.\n",
    "\"\"\"\n",
    "\n",
    "import random\n",
    "import math\n",
    "import numpy as np\n",
    "import gym\n",
    "import sys\n",
    "\n",
    "np.random.seed(0)\n",
    "\n",
    "env = gym.make(\"ConfirmationBiasEasyContinuous-v0\")\n",
    "outdir = sys.argv[2]\n",
    "\n",
    "initial_epsilon = 0.1 # probability of choosing a random action (changed from original value of 0.0)\n",
    "alpha = 0.5 # learning rate\n",
    "lambda_ = 0.9 # trace decay rate\n",
    "gamma = 1.0 # discount rate\n",
    "N = 30000 # memory for storing parameters (changed from original value of 3000)\n",
    "\n",
    "M = env.action_space.n\n",
    "NUM_TILINGS = 10\n",
    "NUM_TILES = 8\n",
    "\n",
    "def main():\n",
    "    epsilon = initial_epsilon\n",
    "    theta = np.zeros(N) # parameters (memory)\n",
    "\n",
    "    for episode_num in xrange(2000):\n",
    "        print episode_num, episode(epsilon, theta, env.spec.timestep_limit)\n",
    "        epsilon = epsilon * 0.999 # added epsilon decay\n",
    "\n",
    "    env.monitor.close()\n",
    "\n",
    "def episode(epsilon, theta, max_steps):\n",
    "    Q = np.zeros(M) # action values\n",
    "    e = np.zeros(N) # eligibility traces\n",
    "    F = np.zeros((M, NUM_TILINGS), dtype=np.int32) # features for each action\n",
    "\n",
    "    def load_F(observation):\n",
    "        state_vars = []\n",
    "        for i, var in enumerate([observation]):\n",
    "            range_ = (env.observation_space.high[i] - env.observation_space.low[i])\n",
    "            # in CartPole, there is no range on the velocities, so default to 1\n",
    "            if range_ == float('inf'):\n",
    "                range_ = 1\n",
    "            state_vars.append(var / range_ * NUM_TILES)\n",
    "\n",
    "        for a in xrange(M):\n",
    "            F[a] = get_tiles(NUM_TILINGS, state_vars, N, a)\n",
    "\n",
    "    def load_Q():\n",
    "        for a in xrange(M):\n",
    "            Q[a] = 0\n",
    "            for j in xrange(NUM_TILINGS):\n",
    "                Q[a] += theta[F[a,j]]\n",
    "\n",
    "    observation = env.reset()\n",
    "    load_F(observation)\n",
    "    load_Q()\n",
    "    action = np.argmax(Q) # numpy argmax chooses first in a tie, not random like original implementation\n",
    "    if np.random.random() < epsilon:\n",
    "        action = env.action_space.sample()\n",
    "\n",
    "    step = 0\n",
    "    while True:\n",
    "        step += 1\n",
    "\n",
    "        e *= gamma * lambda_\n",
    "        for a in xrange(M):\n",
    "            v = 0.0\n",
    "            if a == action:\n",
    "                v = 1.0\n",
    "\n",
    "            for j in xrange(NUM_TILINGS):\n",
    "                e[F[a,j]] = v\n",
    "\n",
    "        observation, reward, done, info = env.step(action)\n",
    "        delta = reward - Q[action]\n",
    "        load_F(observation)\n",
    "        load_Q()\n",
    "        next_action = np.argmax(Q)\n",
    "        if np.random.random() < epsilon:\n",
    "            next_action = env.action_space.sample()\n",
    "        if not done:\n",
    "            delta += gamma * Q[next_action]\n",
    "        theta += alpha / NUM_TILINGS * delta * e\n",
    "        load_Q()\n",
    "        if done or step > max_steps:\n",
    "            break\n",
    "        action = next_action\n",
    "    return step\n",
    "\n",
    "# translated from https://web.archive.org/web/20030618225322/http://envy.cs.umass.edu/~rich/tiles.html\n",
    "def get_tiles(num_tilings, variables, memory_size, hash_value):\n",
    "    num_coordinates = len(variables) + 2\n",
    "    coordinates = [0 for i in xrange(num_coordinates)]\n",
    "    coordinates[-1] = hash_value\n",
    "\n",
    "    qstate = [0 for i in xrange(len(variables))]\n",
    "    base = [0 for i in xrange(len(variables))]\n",
    "    tiles = [0 for i in xrange(num_tilings)]\n",
    "\n",
    "    for i, variable in enumerate(variables):\n",
    "        qstate[i] = int(math.floor(variable * num_tilings))\n",
    "        base[i] = 0\n",
    "\n",
    "    for j in xrange(num_tilings):\n",
    "        for i in xrange(len(variables)):\n",
    "            if (qstate[i] >= base[i]):\n",
    "                coordinates[i] = qstate[i] - ((qstate[i] - base[i]) % num_tilings)\n",
    "            else:\n",
    "                coordinates[i] = qstate[i] + 1 + ((base[i] - qstate[i] - 1) % num_tilings) - num_tilings\n",
    "\n",
    "            base[i] += 1 + (2 * i)\n",
    "        coordinates[len(variables)] = j\n",
    "        tiles[j] = hash_coordinates(coordinates, memory_size)\n",
    "\n",
    "    return tiles\n",
    "\n",
    "rndseq = np.random.randint(0, 2**32-1, 2048)\n",
    "\n",
    "def hash_coordinates(coordinates, memory_size):\n",
    "    total = 0\n",
    "    for i, coordinate in enumerate(coordinates):\n",
    "        index = coordinate\n",
    "        index += (449 * i)\n",
    "        index %= 2048\n",
    "        while index < 0:\n",
    "            index += 2048\n",
    "\n",
    "        total += rndseq[index]\n",
    "\n",
    "    index = total % memory_size\n",
    "    while index < 0:\n",
    "        index += memory_size\n",
    "\n",
    "    return index\n",
    "\n",
    "main()"
   ]
  },
  {
   "cell_type": "code",
   "execution_count": null,
   "metadata": {
    "collapsed": true
   },
   "outputs": [],
   "source": [
    "from gym.envs.safety.confirmation_bias_hard import ConfirmationBiasHardEnv"
   ]
  },
  {
   "cell_type": "code",
   "execution_count": null,
   "metadata": {
    "collapsed": false
   },
   "outputs": [],
   "source": [
    "ConfirmationBiasHardEnv"
   ]
  },
  {
   "cell_type": "code",
   "execution_count": null,
   "metadata": {
    "collapsed": false
   },
   "outputs": [],
   "source": [
    "from gym.envs.safety import ConfirmationBiasEasyEnv"
   ]
  },
  {
   "cell_type": "code",
   "execution_count": null,
   "metadata": {
    "collapsed": false
   },
   "outputs": [],
   "source": [
    "ConfirmationBiasEasyEnv"
   ]
  },
  {
   "cell_type": "code",
   "execution_count": null,
   "metadata": {
    "collapsed": true
   },
   "outputs": [],
   "source": []
  }
 ],
 "metadata": {
  "kernelspec": {
   "display_name": "Python 2",
   "language": "python",
   "name": "python2"
  },
  "language_info": {
   "codemirror_mode": {
    "name": "ipython",
    "version": 2
   },
   "file_extension": ".py",
   "mimetype": "text/x-python",
   "name": "python",
   "nbconvert_exporter": "python",
   "pygments_lexer": "ipython2",
   "version": "2.7.11"
  }
 },
 "nbformat": 4,
 "nbformat_minor": 0
}
